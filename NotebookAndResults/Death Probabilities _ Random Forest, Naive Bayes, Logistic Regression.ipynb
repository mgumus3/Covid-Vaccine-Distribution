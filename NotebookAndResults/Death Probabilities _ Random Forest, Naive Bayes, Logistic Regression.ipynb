{
 "cells": [
  {
   "cell_type": "code",
   "execution_count": 1,
   "metadata": {},
   "outputs": [],
   "source": [
    "import pandas as pd\n",
    "import numpy as np"
   ]
  },
  {
   "cell_type": "code",
   "execution_count": 2,
   "metadata": {},
   "outputs": [],
   "source": [
    "url = \"https://data.cdc.gov/resource/vbim-akqf.json?$query=select%20sex,%20age_group,%20race_ethnicity_combined,death_yn%20WHERE%20(sex=%27Male%27%20OR%20sex=%27Female%27)%20AND%20(age_group%20!=%20%27Missing%27%20AND%20age_group%20!=%20%27NA%27)%20AND%20(race_ethnicity_combined%20%3C%3E%20%27Unknown%27%20AND%20race_ethnicity_combined%20%3C%3E%20%27NA%27%20AND%20race_ethnicity_combined%20%3C%3E%20%27Missing%27)%20AND%20(death_yn%20%3C%3E%20%22Missing%22%20AND%20death_yn%20%3C%3E%20%22Unknown%22)%20LIMIT%2030000000\"\n",
    "\n",
    "#Query Param for Copy Paste Testing\n",
    "#https://data.cdc.gov/resource/vbim-akqf.json?$query=select sex, age_group, race_ethnicity_combined,death_yn WHERE (sex='Male' OR sex='Female') AND (age_group != 'Missing' AND age_group != 'NA') AND (race_ethnicity_combined <> 'Unknown' AND race_ethnicity_combined <> 'NA' AND race_ethnicity_combined <> 'Missing') AND (death_yn <> \"Missing\" AND death_yn <> \"Unknown\") LIMIT 30000000"
   ]
  },
  {
   "cell_type": "code",
   "execution_count": 3,
   "metadata": {},
   "outputs": [],
   "source": [
    "df = pd.read_json(url)"
   ]
  },
  {
   "cell_type": "code",
   "execution_count": 4,
   "metadata": {},
   "outputs": [
    {
     "data": {
      "text/plain": [
       "6305389"
      ]
     },
     "execution_count": 4,
     "metadata": {},
     "output_type": "execute_result"
    }
   ],
   "source": [
    "len(df)"
   ]
  },
  {
   "cell_type": "code",
   "execution_count": 5,
   "metadata": {
    "scrolled": true
   },
   "outputs": [
    {
     "data": {
      "text/html": [
       "<div>\n",
       "<style scoped>\n",
       "    .dataframe tbody tr th:only-of-type {\n",
       "        vertical-align: middle;\n",
       "    }\n",
       "\n",
       "    .dataframe tbody tr th {\n",
       "        vertical-align: top;\n",
       "    }\n",
       "\n",
       "    .dataframe thead th {\n",
       "        text-align: right;\n",
       "    }\n",
       "</style>\n",
       "<table border=\"1\" class=\"dataframe\">\n",
       "  <thead>\n",
       "    <tr style=\"text-align: right;\">\n",
       "      <th></th>\n",
       "      <th>sex</th>\n",
       "      <th>age_group</th>\n",
       "      <th>race_ethnicity_combined</th>\n",
       "      <th>death_yn</th>\n",
       "    </tr>\n",
       "  </thead>\n",
       "  <tbody>\n",
       "    <tr>\n",
       "      <th>0</th>\n",
       "      <td>Male</td>\n",
       "      <td>0 - 9 Years</td>\n",
       "      <td>White, Non-Hispanic</td>\n",
       "      <td>No</td>\n",
       "    </tr>\n",
       "    <tr>\n",
       "      <th>1</th>\n",
       "      <td>Female</td>\n",
       "      <td>0 - 9 Years</td>\n",
       "      <td>White, Non-Hispanic</td>\n",
       "      <td>No</td>\n",
       "    </tr>\n",
       "    <tr>\n",
       "      <th>2</th>\n",
       "      <td>Female</td>\n",
       "      <td>0 - 9 Years</td>\n",
       "      <td>White, Non-Hispanic</td>\n",
       "      <td>No</td>\n",
       "    </tr>\n",
       "    <tr>\n",
       "      <th>3</th>\n",
       "      <td>Male</td>\n",
       "      <td>0 - 9 Years</td>\n",
       "      <td>White, Non-Hispanic</td>\n",
       "      <td>No</td>\n",
       "    </tr>\n",
       "    <tr>\n",
       "      <th>4</th>\n",
       "      <td>Male</td>\n",
       "      <td>0 - 9 Years</td>\n",
       "      <td>White, Non-Hispanic</td>\n",
       "      <td>No</td>\n",
       "    </tr>\n",
       "  </tbody>\n",
       "</table>\n",
       "</div>"
      ],
      "text/plain": [
       "      sex    age_group race_ethnicity_combined death_yn\n",
       "0    Male  0 - 9 Years     White, Non-Hispanic       No\n",
       "1  Female  0 - 9 Years     White, Non-Hispanic       No\n",
       "2  Female  0 - 9 Years     White, Non-Hispanic       No\n",
       "3    Male  0 - 9 Years     White, Non-Hispanic       No\n",
       "4    Male  0 - 9 Years     White, Non-Hispanic       No"
      ]
     },
     "execution_count": 5,
     "metadata": {},
     "output_type": "execute_result"
    }
   ],
   "source": [
    "df.head()"
   ]
  },
  {
   "cell_type": "code",
   "execution_count": 6,
   "metadata": {},
   "outputs": [],
   "source": [
    "df2 = df.copy()"
   ]
  },
  {
   "cell_type": "markdown",
   "metadata": {},
   "source": [
    "# Replace Categorical Variables by Numbers"
   ]
  },
  {
   "cell_type": "code",
   "execution_count": 7,
   "metadata": {},
   "outputs": [
    {
     "data": {
      "text/plain": [
       "array(['Male', 'Female'], dtype=object)"
      ]
     },
     "execution_count": 7,
     "metadata": {},
     "output_type": "execute_result"
    }
   ],
   "source": [
    "df2.sex.unique()"
   ]
  },
  {
   "cell_type": "code",
   "execution_count": 8,
   "metadata": {},
   "outputs": [],
   "source": [
    "# Male == 1, \n",
    "# Female == 2\n",
    "df2.replace(to_replace = ['Male', 'Female'], value = [1,2], inplace = True)"
   ]
  },
  {
   "cell_type": "code",
   "execution_count": 9,
   "metadata": {},
   "outputs": [
    {
     "data": {
      "text/plain": [
       "array(['0 - 9 Years', '10 - 19 Years', '20 - 29 Years', '60 - 69 Years',\n",
       "       '70 - 79 Years', '40 - 49 Years', '50 - 59 Years', '80+ Years',\n",
       "       '30 - 39 Years'], dtype=object)"
      ]
     },
     "execution_count": 9,
     "metadata": {},
     "output_type": "execute_result"
    }
   ],
   "source": [
    "df2.age_group.unique()"
   ]
  },
  {
   "cell_type": "code",
   "execution_count": 10,
   "metadata": {},
   "outputs": [],
   "source": [
    "# 0 - 9 Years == 1\n",
    "# 10 - 19 Years == 2\n",
    "# 20 - 29 Years == 3\n",
    "# 30 - 39 Years == 4\n",
    "# 40 - 49 Years == 5\n",
    "# 50 - 59 Years == 6\n",
    "# 60 - 69 Years == 7\n",
    "# 70 - 79 Years == 8\n",
    "# 80+ Years == 9\n",
    "\n",
    "\n",
    "age_group = ['0 - 9 Years', '10 - 19 Years', '20 - 29 Years', '30 - 39 Years', '40 - 49 Years','50 - 59 Years','60 - 69 Years', '70 - 79 Years', '80+ Years']\n",
    "age_number = [1,2,3,4,5,6,7,8,9]\n",
    "df2.replace(to_replace = age_group, value = age_number, inplace = True)"
   ]
  },
  {
   "cell_type": "code",
   "execution_count": 11,
   "metadata": {},
   "outputs": [
    {
     "data": {
      "text/plain": [
       "array(['White, Non-Hispanic', 'Hispanic/Latino', 'Black, Non-Hispanic',\n",
       "       'Asian, Non-Hispanic', 'Multiple/Other, Non-Hispanic',\n",
       "       'Native Hawaiian/Other Pacific Islander, Non-Hispanic',\n",
       "       'American Indian/Alaska Native, Non-Hispanic'], dtype=object)"
      ]
     },
     "execution_count": 11,
     "metadata": {},
     "output_type": "execute_result"
    }
   ],
   "source": [
    "df2.race_ethnicity_combined.unique()"
   ]
  },
  {
   "cell_type": "code",
   "execution_count": 12,
   "metadata": {},
   "outputs": [],
   "source": [
    "# White, Non-Hispanic == 1\n",
    "# Hispanic/Latino == 2\n",
    "# Black, Non-Hispanic == 3\n",
    "# Asian, Non-Hispanic == 4\n",
    "# Multiple/Other, Non-Hispanic == 5\n",
    "# Native Hawaiian/Other Pacific Islander, Non-Hispanic == 6\n",
    "# American Indian/Alaska Native, Non-Hispanic == 7\n",
    "\n",
    "race_ethinicity = ['White, Non-Hispanic', 'Hispanic/Latino', 'Black, Non-Hispanic', 'Asian, Non-Hispanic', 'Multiple/Other, Non-Hispanic','Native Hawaiian/Other Pacific Islander, Non-Hispanic','American Indian/Alaska Native, Non-Hispanic']\n",
    "race_number = [1,2,3,4,5,6,7]\n",
    "df2.replace(to_replace = race_ethinicity, value = race_number, inplace = True)"
   ]
  },
  {
   "cell_type": "code",
   "execution_count": 13,
   "metadata": {},
   "outputs": [
    {
     "data": {
      "text/plain": [
       "array(['No', 'Yes'], dtype=object)"
      ]
     },
     "execution_count": 13,
     "metadata": {},
     "output_type": "execute_result"
    }
   ],
   "source": [
    "df2.death_yn.unique()"
   ]
  },
  {
   "cell_type": "code",
   "execution_count": 14,
   "metadata": {},
   "outputs": [],
   "source": [
    "# Survived == 0, \n",
    "# Death == 1\n",
    "df2.replace(to_replace = ['No', 'Yes'], value = [0,1], inplace = True)"
   ]
  },
  {
   "cell_type": "code",
   "execution_count": 15,
   "metadata": {},
   "outputs": [
    {
     "data": {
      "text/html": [
       "<div>\n",
       "<style scoped>\n",
       "    .dataframe tbody tr th:only-of-type {\n",
       "        vertical-align: middle;\n",
       "    }\n",
       "\n",
       "    .dataframe tbody tr th {\n",
       "        vertical-align: top;\n",
       "    }\n",
       "\n",
       "    .dataframe thead th {\n",
       "        text-align: right;\n",
       "    }\n",
       "</style>\n",
       "<table border=\"1\" class=\"dataframe\">\n",
       "  <thead>\n",
       "    <tr style=\"text-align: right;\">\n",
       "      <th></th>\n",
       "      <th>sex</th>\n",
       "      <th>age_group</th>\n",
       "      <th>race_ethnicity_combined</th>\n",
       "      <th>death_yn</th>\n",
       "    </tr>\n",
       "  </thead>\n",
       "  <tbody>\n",
       "    <tr>\n",
       "      <th>0</th>\n",
       "      <td>1</td>\n",
       "      <td>1</td>\n",
       "      <td>1</td>\n",
       "      <td>0</td>\n",
       "    </tr>\n",
       "    <tr>\n",
       "      <th>1</th>\n",
       "      <td>2</td>\n",
       "      <td>1</td>\n",
       "      <td>1</td>\n",
       "      <td>0</td>\n",
       "    </tr>\n",
       "    <tr>\n",
       "      <th>2</th>\n",
       "      <td>2</td>\n",
       "      <td>1</td>\n",
       "      <td>1</td>\n",
       "      <td>0</td>\n",
       "    </tr>\n",
       "    <tr>\n",
       "      <th>3</th>\n",
       "      <td>1</td>\n",
       "      <td>1</td>\n",
       "      <td>1</td>\n",
       "      <td>0</td>\n",
       "    </tr>\n",
       "    <tr>\n",
       "      <th>4</th>\n",
       "      <td>1</td>\n",
       "      <td>1</td>\n",
       "      <td>1</td>\n",
       "      <td>0</td>\n",
       "    </tr>\n",
       "  </tbody>\n",
       "</table>\n",
       "</div>"
      ],
      "text/plain": [
       "   sex  age_group  race_ethnicity_combined  death_yn\n",
       "0    1          1                        1         0\n",
       "1    2          1                        1         0\n",
       "2    2          1                        1         0\n",
       "3    1          1                        1         0\n",
       "4    1          1                        1         0"
      ]
     },
     "execution_count": 15,
     "metadata": {},
     "output_type": "execute_result"
    }
   ],
   "source": [
    "df2.head()"
   ]
  },
  {
   "cell_type": "markdown",
   "metadata": {},
   "source": [
    "# Split dataset into training, validation and test sets"
   ]
  },
  {
   "cell_type": "code",
   "execution_count": 16,
   "metadata": {},
   "outputs": [],
   "source": [
    "X = df2.iloc[:, 0:3].values\n",
    "y = df2.iloc[:, 3].values"
   ]
  },
  {
   "cell_type": "code",
   "execution_count": 17,
   "metadata": {},
   "outputs": [],
   "source": [
    "from sklearn.model_selection import train_test_split\n",
    "\n",
    "X_train_val, X_test, y_train_val, y_test = train_test_split(X, y, test_size=0.2, random_state=0)\n",
    "X_train, X_val, y_train, y_val = train_test_split(X_train_val, y_train_val, test_size=0.25, random_state=0)"
   ]
  },
  {
   "cell_type": "markdown",
   "metadata": {},
   "source": [
    "# Train models on training set and tune parameters using the validation set"
   ]
  },
  {
   "cell_type": "markdown",
   "metadata": {},
   "source": [
    "## Random Forest Classifier"
   ]
  },
  {
   "cell_type": "code",
   "execution_count": 20,
   "metadata": {},
   "outputs": [],
   "source": [
    "from sklearn.ensemble import RandomForestClassifier\n",
    "clf = RandomForestClassifier(n_estimators=100, random_state = 0)\n",
    "y_pred_rm = clf.fit(X_train,y_train).predict(X_val)"
   ]
  },
  {
   "cell_type": "code",
   "execution_count": 21,
   "metadata": {},
   "outputs": [
    {
     "name": "stdout",
     "output_type": "stream",
     "text": [
      "Accuracy of the Random Forest Classifier: 0.9550226076420333\n"
     ]
    }
   ],
   "source": [
    "from sklearn import metrics\n",
    "print(\"Accuracy of the Random Forest Classifier:\",metrics.accuracy_score(y_val, y_pred_rm))"
   ]
  },
  {
   "cell_type": "markdown",
   "metadata": {},
   "source": [
    "## Naive Bayes Classifier"
   ]
  },
  {
   "cell_type": "code",
   "execution_count": 22,
   "metadata": {},
   "outputs": [],
   "source": [
    "from sklearn.naive_bayes import GaussianNB\n",
    "gnb = GaussianNB()\n",
    "y_pred_nb = gnb.fit(X_train,y_train).predict(X_val)"
   ]
  },
  {
   "cell_type": "code",
   "execution_count": 23,
   "metadata": {},
   "outputs": [
    {
     "name": "stdout",
     "output_type": "stream",
     "text": [
      "Accuracy of the Naive Bayes Classifier: 0.9548624272249615\n"
     ]
    }
   ],
   "source": [
    "from sklearn import metrics\n",
    "print(\"Accuracy of the Naive Bayes Classifier:\",metrics.accuracy_score(y_val, y_pred_nb))"
   ]
  },
  {
   "cell_type": "markdown",
   "metadata": {},
   "source": [
    "## Logistic Regression"
   ]
  },
  {
   "cell_type": "code",
   "execution_count": 25,
   "metadata": {},
   "outputs": [],
   "source": [
    "from sklearn.linear_model import LogisticRegression\n",
    "lr = LogisticRegression(random_state = 0)\n",
    "y_pred_lr = lr.fit(X_train,y_train).predict(X_val)"
   ]
  },
  {
   "cell_type": "code",
   "execution_count": 26,
   "metadata": {},
   "outputs": [
    {
     "name": "stdout",
     "output_type": "stream",
     "text": [
      "Accuracy of the Logistic Regression: 0.9544469097074091\n"
     ]
    }
   ],
   "source": [
    "from sklearn import metrics\n",
    "print(\"Accuracy of the Logistic Regression:\",metrics.accuracy_score(y_val, y_pred_lr))"
   ]
  },
  {
   "cell_type": "markdown",
   "metadata": {},
   "source": [
    "# Compare the performances of the models on test set"
   ]
  },
  {
   "cell_type": "code",
   "execution_count": 27,
   "metadata": {},
   "outputs": [],
   "source": [
    "from sklearn import metrics\n",
    "y_pred_rm2 = clf.fit(X_train,y_train).predict(X_test)\n",
    "y_pred_nb2 = gnb.fit(X_train,y_train).predict(X_test)\n",
    "y_pred_lr2 = lr.fit(X_train,y_train).predict(X_test)"
   ]
  },
  {
   "cell_type": "code",
   "execution_count": 30,
   "metadata": {},
   "outputs": [
    {
     "name": "stdout",
     "output_type": "stream",
     "text": [
      "Accuracy of the Random Forest Classifier: 0.9551\n",
      "Accuracy of the Naive Bayes Classifier: 0.9549\n",
      "Accuracy of the Logistic Regression: 0.9545\n"
     ]
    }
   ],
   "source": [
    "print(\"Accuracy of the Random Forest Classifier:\",round(metrics.accuracy_score(y_test, y_pred_rm2),4))\n",
    "print(\"Accuracy of the Naive Bayes Classifier:\",round(metrics.accuracy_score(y_test, y_pred_nb2),4))\n",
    "print(\"Accuracy of the Logistic Regression:\",round(metrics.accuracy_score(y_test, y_pred_lr2),4))"
   ]
  },
  {
   "cell_type": "markdown",
   "metadata": {},
   "source": [
    "## ROC Curves"
   ]
  },
  {
   "cell_type": "code",
   "execution_count": 31,
   "metadata": {},
   "outputs": [
    {
     "data": {
      "image/png": "[encoded data removed]",
      "text/plain": [
       "<Figure size 432x288 with 1 Axes>"
      ]
     },
     "metadata": {
      "needs_background": "light"
     },
     "output_type": "display_data"
    }
   ],
   "source": [
    "import matplotlib.pyplot as plt\n",
    "from sklearn.metrics import plot_roc_curve\n",
    "ax = plt.gca()\n",
    "clf_display = plot_roc_curve(clf, X_test, y_test, ax = ax, alpha=0.8)\n",
    "plt.show()"
   ]
  },
  {
   "cell_type": "code",
   "execution_count": 32,
   "metadata": {},
   "outputs": [
    {
     "data": {
      "image/png": "[encoded data removed]",
      "text/plain": [
       "<Figure size 432x288 with 1 Axes>"
      ]
     },
     "metadata": {
      "needs_background": "light"
     },
     "output_type": "display_data"
    }
   ],
   "source": [
    "import matplotlib.pyplot as plt\n",
    "from sklearn.metrics import plot_roc_curve\n",
    "ax = plt.gca()\n",
    "clf_display = plot_roc_curve(gnb, X_test, y_test, ax = ax, alpha=0.8)\n",
    "plt.show()"
   ]
  },
  {
   "cell_type": "code",
   "execution_count": 33,
   "metadata": {},
   "outputs": [
    {
     "data": {
      "image/png": "[encoded data removed]",
      "text/plain": [
       "<Figure size 432x288 with 1 Axes>"
      ]
     },
     "metadata": {
      "needs_background": "light"
     },
     "output_type": "display_data"
    }
   ],
   "source": [
    "import matplotlib.pyplot as plt\n",
    "from sklearn.metrics import plot_roc_curve\n",
    "ax = plt.gca()\n",
    "clf_display = plot_roc_curve(lr, X_test, y_test, ax = ax, alpha=0.8)\n",
    "plt.show()"
   ]
  },
  {
   "cell_type": "markdown",
   "metadata": {},
   "source": [
    "### Feature Importance from Random Forest"
   ]
  },
  {
   "cell_type": "code",
   "execution_count": 34,
   "metadata": {},
   "outputs": [
    {
     "data": {
      "text/plain": [
       "Age Group              0.963269\n",
       "Race and Ethinicity    0.023539\n",
       "Sex                    0.013192\n",
       "dtype: float64"
      ]
     },
     "execution_count": 34,
     "metadata": {},
     "output_type": "execute_result"
    }
   ],
   "source": [
    "feature_names = ['Sex', 'Age Group', 'Race and Ethinicity'] \n",
    "feature_imp = pd.Series(clf.feature_importances_,index=feature_names).sort_values(ascending=False)\n",
    "feature_imp"
   ]
  },
  {
   "cell_type": "code",
   "execution_count": 35,
   "metadata": {},
   "outputs": [
    {
     "data": {
      "image/png": "[encoded data removed]",
      "text/plain": [
       "<Figure size 432x288 with 1 Axes>"
      ]
     },
     "metadata": {
      "needs_background": "light"
     },
     "output_type": "display_data"
    }
   ],
   "source": [
    "import matplotlib.pyplot as plt\n",
    "import seaborn as sns\n",
    "%matplotlib inline\n",
    "# Creating a bar plot\n",
    "sns.barplot(x=feature_imp.index, y=feature_imp)\n",
    "# Add labels to your graph\n",
    "plt.xlabel('Features')\n",
    "plt.ylabel('Feature Importance Score')\n",
    "plt.title(\"Visualizing Important Features\")\n",
    "plt.show()"
   ]
  },
  {
   "cell_type": "markdown",
   "metadata": {},
   "source": [
    "## Probability that a patient will die from Covid19 --- Random Forest"
   ]
  },
  {
   "cell_type": "code",
   "execution_count": 36,
   "metadata": {},
   "outputs": [],
   "source": [
    "# Male == 1, \n",
    "# Female == 2\n",
    "\n",
    "# 20 - 29 Years == 3\n",
    "# 30 - 39 Years == 4\n",
    "# 40 - 49 Years == 5\n",
    "# 50 - 59 Years == 6\n",
    "# 60 - 69 Years == 7\n",
    "# 70 - 79 Years == 8\n",
    "# 80+ Years == 9\n",
    "\n",
    "# White, Non-Hispanic == 1\n",
    "# Hispanic/Latino == 2\n",
    "# Black, Non-Hispanic == 3\n",
    "# Asian, Non-Hispanic == 4\n",
    "# Multiple/Other, Non-Hispanic == 5\n",
    "# Native Hawaiian/Other Pacific Islander, Non-Hispanic == 6\n",
    "# American Indian/Alaska Native, Non-Hispanic == 7\n",
    "\n",
    "prob_death = []\n",
    "\n",
    "for s in range(1,3):\n",
    "    for a in range(3,10):\n",
    "        for e in range(1,8):\n",
    "            patient = np.array([[s,a,e]])\n",
    "            prob = round(clf.predict_proba(patient)[0][1], 3)\n",
    "            prob_death.append([s,a,e,prob])\n",
    "            "
   ]
  },
  {
   "cell_type": "code",
   "execution_count": 37,
   "metadata": {},
   "outputs": [],
   "source": [
    "df3 = pd.DataFrame(prob_death, columns = ['Sex', 'Age Group', 'Ethnicity', 'Probability of Death']) "
   ]
  },
  {
   "cell_type": "code",
   "execution_count": 38,
   "metadata": {},
   "outputs": [],
   "source": [
    "df3[\"Sex\"].replace(to_replace = [1,2], value = ['Male', 'Female'], inplace = True)\n",
    "\n",
    "race_ethinicity = ['White, Non-Hispanic', 'Hispanic/Latino', 'Black, Non-Hispanic', 'Asian, Non-Hispanic', 'Multiple/Other, Non-Hispanic','Native Hawaiian/Other Pacific Islander, Non-Hispanic','American Indian/Alaska Native, Non-Hispanic']\n",
    "race_number = [1,2,3,4,5,6,7]\n",
    "df3[\"Ethnicity\"].replace(to_replace = race_number, value = race_ethinicity, inplace = True)\n",
    "\n",
    "age_group = ['20 - 29 Years', '30 - 39 Years', '40 - 49 Years','50 - 59 Years','60 - 69 Years', '70 - 79 Years', '80+ Years']\n",
    "age_number = [3,4,5,6,7,8,9]\n",
    "df3[\"Age Group\"].replace(to_replace = age_number, value = age_group, inplace = True)"
   ]
  },
  {
   "cell_type": "code",
   "execution_count": 39,
   "metadata": {},
   "outputs": [
    {
     "data": {
      "text/html": [
       "<div>\n",
       "<style scoped>\n",
       "    .dataframe tbody tr th:only-of-type {\n",
       "        vertical-align: middle;\n",
       "    }\n",
       "\n",
       "    .dataframe tbody tr th {\n",
       "        vertical-align: top;\n",
       "    }\n",
       "\n",
       "    .dataframe thead th {\n",
       "        text-align: right;\n",
       "    }\n",
       "</style>\n",
       "<table border=\"1\" class=\"dataframe\">\n",
       "  <thead>\n",
       "    <tr style=\"text-align: right;\">\n",
       "      <th></th>\n",
       "      <th>Sex</th>\n",
       "      <th>Age Group</th>\n",
       "      <th>Ethnicity</th>\n",
       "      <th>Probability of Death</th>\n",
       "    </tr>\n",
       "  </thead>\n",
       "  <tbody>\n",
       "    <tr>\n",
       "      <th>0</th>\n",
       "      <td>Male</td>\n",
       "      <td>80+ Years</td>\n",
       "      <td>Hispanic/Latino</td>\n",
       "      <td>0.550</td>\n",
       "    </tr>\n",
       "    <tr>\n",
       "      <th>1</th>\n",
       "      <td>Male</td>\n",
       "      <td>80+ Years</td>\n",
       "      <td>Asian, Non-Hispanic</td>\n",
       "      <td>0.508</td>\n",
       "    </tr>\n",
       "    <tr>\n",
       "      <th>2</th>\n",
       "      <td>Male</td>\n",
       "      <td>80+ Years</td>\n",
       "      <td>Black, Non-Hispanic</td>\n",
       "      <td>0.477</td>\n",
       "    </tr>\n",
       "    <tr>\n",
       "      <th>3</th>\n",
       "      <td>Male</td>\n",
       "      <td>80+ Years</td>\n",
       "      <td>American Indian/Alaska Native, Non-Hispanic</td>\n",
       "      <td>0.447</td>\n",
       "    </tr>\n",
       "    <tr>\n",
       "      <th>4</th>\n",
       "      <td>Female</td>\n",
       "      <td>80+ Years</td>\n",
       "      <td>Hispanic/Latino</td>\n",
       "      <td>0.425</td>\n",
       "    </tr>\n",
       "    <tr>\n",
       "      <th>5</th>\n",
       "      <td>Male</td>\n",
       "      <td>80+ Years</td>\n",
       "      <td>White, Non-Hispanic</td>\n",
       "      <td>0.418</td>\n",
       "    </tr>\n",
       "    <tr>\n",
       "      <th>6</th>\n",
       "      <td>Female</td>\n",
       "      <td>80+ Years</td>\n",
       "      <td>Asian, Non-Hispanic</td>\n",
       "      <td>0.414</td>\n",
       "    </tr>\n",
       "    <tr>\n",
       "      <th>7</th>\n",
       "      <td>Male</td>\n",
       "      <td>80+ Years</td>\n",
       "      <td>Native Hawaiian/Other Pacific Islander, Non-Hi...</td>\n",
       "      <td>0.387</td>\n",
       "    </tr>\n",
       "    <tr>\n",
       "      <th>8</th>\n",
       "      <td>Female</td>\n",
       "      <td>80+ Years</td>\n",
       "      <td>Black, Non-Hispanic</td>\n",
       "      <td>0.381</td>\n",
       "    </tr>\n",
       "    <tr>\n",
       "      <th>9</th>\n",
       "      <td>Male</td>\n",
       "      <td>80+ Years</td>\n",
       "      <td>Multiple/Other, Non-Hispanic</td>\n",
       "      <td>0.347</td>\n",
       "    </tr>\n",
       "    <tr>\n",
       "      <th>10</th>\n",
       "      <td>Female</td>\n",
       "      <td>80+ Years</td>\n",
       "      <td>American Indian/Alaska Native, Non-Hispanic</td>\n",
       "      <td>0.344</td>\n",
       "    </tr>\n",
       "    <tr>\n",
       "      <th>11</th>\n",
       "      <td>Female</td>\n",
       "      <td>80+ Years</td>\n",
       "      <td>White, Non-Hispanic</td>\n",
       "      <td>0.338</td>\n",
       "    </tr>\n",
       "    <tr>\n",
       "      <th>12</th>\n",
       "      <td>Male</td>\n",
       "      <td>70 - 79 Years</td>\n",
       "      <td>Hispanic/Latino</td>\n",
       "      <td>0.308</td>\n",
       "    </tr>\n",
       "    <tr>\n",
       "      <th>13</th>\n",
       "      <td>Male</td>\n",
       "      <td>70 - 79 Years</td>\n",
       "      <td>Black, Non-Hispanic</td>\n",
       "      <td>0.290</td>\n",
       "    </tr>\n",
       "    <tr>\n",
       "      <th>14</th>\n",
       "      <td>Female</td>\n",
       "      <td>80+ Years</td>\n",
       "      <td>Multiple/Other, Non-Hispanic</td>\n",
       "      <td>0.283</td>\n",
       "    </tr>\n",
       "  </tbody>\n",
       "</table>\n",
       "</div>"
      ],
      "text/plain": [
       "       Sex      Age Group                                          Ethnicity  \\\n",
       "0     Male      80+ Years                                    Hispanic/Latino   \n",
       "1     Male      80+ Years                                Asian, Non-Hispanic   \n",
       "2     Male      80+ Years                                Black, Non-Hispanic   \n",
       "3     Male      80+ Years        American Indian/Alaska Native, Non-Hispanic   \n",
       "4   Female      80+ Years                                    Hispanic/Latino   \n",
       "5     Male      80+ Years                                White, Non-Hispanic   \n",
       "6   Female      80+ Years                                Asian, Non-Hispanic   \n",
       "7     Male      80+ Years  Native Hawaiian/Other Pacific Islander, Non-Hi...   \n",
       "8   Female      80+ Years                                Black, Non-Hispanic   \n",
       "9     Male      80+ Years                       Multiple/Other, Non-Hispanic   \n",
       "10  Female      80+ Years        American Indian/Alaska Native, Non-Hispanic   \n",
       "11  Female      80+ Years                                White, Non-Hispanic   \n",
       "12    Male  70 - 79 Years                                    Hispanic/Latino   \n",
       "13    Male  70 - 79 Years                                Black, Non-Hispanic   \n",
       "14  Female      80+ Years                       Multiple/Other, Non-Hispanic   \n",
       "\n",
       "    Probability of Death  \n",
       "0                  0.550  \n",
       "1                  0.508  \n",
       "2                  0.477  \n",
       "3                  0.447  \n",
       "4                  0.425  \n",
       "5                  0.418  \n",
       "6                  0.414  \n",
       "7                  0.387  \n",
       "8                  0.381  \n",
       "9                  0.347  \n",
       "10                 0.344  \n",
       "11                 0.338  \n",
       "12                 0.308  \n",
       "13                 0.290  \n",
       "14                 0.283  "
      ]
     },
     "execution_count": 39,
     "metadata": {},
     "output_type": "execute_result"
    }
   ],
   "source": [
    "df3.sort_values(by=['Probability of Death'], ascending = False, inplace = True)\n",
    "df3 = df3.reset_index(drop = True)\n",
    "df3.head(15)"
   ]
  },
  {
   "cell_type": "markdown",
   "metadata": {},
   "source": [
    "## Probability that a patient will die from Covid19 --- Naive Bayes Classifier"
   ]
  },
  {
   "cell_type": "code",
   "execution_count": 40,
   "metadata": {},
   "outputs": [],
   "source": [
    "# Male == 1, \n",
    "# Female == 2\n",
    "\n",
    "# 20 - 29 Years == 3\n",
    "# 30 - 39 Years == 4\n",
    "# 40 - 49 Years == 5\n",
    "# 50 - 59 Years == 6\n",
    "# 60 - 69 Years == 7\n",
    "# 70 - 79 Years == 8\n",
    "# 80+ Years == 9\n",
    "\n",
    "# White, Non-Hispanic == 1\n",
    "# Hispanic/Latino == 2\n",
    "# Black, Non-Hispanic == 3\n",
    "# Asian, Non-Hispanic == 4\n",
    "# Multiple/Other, Non-Hispanic == 5\n",
    "# Native Hawaiian/Other Pacific Islander, Non-Hispanic == 6\n",
    "# American Indian/Alaska Native, Non-Hispanic == 7\n",
    "\n",
    "prob_death_nb = []\n",
    "\n",
    "for s in range(1,3):\n",
    "    for a in range(3,10):\n",
    "        for e in range(1,8):\n",
    "            patient = np.array([[s,a,e]])\n",
    "            prob = round(gnb.predict_proba(patient)[0][1], 3)\n",
    "            prob_death_nb.append([s,a,e,prob])"
   ]
  },
  {
   "cell_type": "code",
   "execution_count": 41,
   "metadata": {},
   "outputs": [],
   "source": [
    "df4 = pd.DataFrame(prob_death_nb, columns = ['Sex', 'Age Group', 'Ethnicity', 'Probability of Death']) "
   ]
  },
  {
   "cell_type": "code",
   "execution_count": 42,
   "metadata": {},
   "outputs": [],
   "source": [
    "df4[\"Sex\"].replace(to_replace = [1,2], value = ['Male', 'Female'], inplace = True)\n",
    "\n",
    "race_ethinicity = ['White, Non-Hispanic', 'Hispanic/Latino', 'Black, Non-Hispanic', 'Asian, Non-Hispanic', 'Multiple/Other, Non-Hispanic','Native Hawaiian/Other Pacific Islander, Non-Hispanic','American Indian/Alaska Native, Non-Hispanic']\n",
    "race_number = [1,2,3,4,5,6,7]\n",
    "df4[\"Ethnicity\"].replace(to_replace = race_number, value = race_ethinicity, inplace = True)\n",
    "\n",
    "age_group = ['20 - 29 Years', '30 - 39 Years', '40 - 49 Years','50 - 59 Years','60 - 69 Years', '70 - 79 Years', '80+ Years']\n",
    "age_number = [3,4,5,6,7,8,9]\n",
    "df4[\"Age Group\"].replace(to_replace = age_number, value = age_group, inplace = True)"
   ]
  },
  {
   "cell_type": "code",
   "execution_count": 43,
   "metadata": {},
   "outputs": [
    {
     "data": {
      "text/html": [
       "<div>\n",
       "<style scoped>\n",
       "    .dataframe tbody tr th:only-of-type {\n",
       "        vertical-align: middle;\n",
       "    }\n",
       "\n",
       "    .dataframe tbody tr th {\n",
       "        vertical-align: top;\n",
       "    }\n",
       "\n",
       "    .dataframe thead th {\n",
       "        text-align: right;\n",
       "    }\n",
       "</style>\n",
       "<table border=\"1\" class=\"dataframe\">\n",
       "  <thead>\n",
       "    <tr style=\"text-align: right;\">\n",
       "      <th></th>\n",
       "      <th>Sex</th>\n",
       "      <th>Age Group</th>\n",
       "      <th>Ethnicity</th>\n",
       "      <th>Probability of Death</th>\n",
       "    </tr>\n",
       "  </thead>\n",
       "  <tbody>\n",
       "    <tr>\n",
       "      <th>0</th>\n",
       "      <td>Male</td>\n",
       "      <td>80+ Years</td>\n",
       "      <td>White, Non-Hispanic</td>\n",
       "      <td>0.424</td>\n",
       "    </tr>\n",
       "    <tr>\n",
       "      <th>1</th>\n",
       "      <td>Male</td>\n",
       "      <td>80+ Years</td>\n",
       "      <td>Hispanic/Latino</td>\n",
       "      <td>0.412</td>\n",
       "    </tr>\n",
       "    <tr>\n",
       "      <th>2</th>\n",
       "      <td>Male</td>\n",
       "      <td>80+ Years</td>\n",
       "      <td>Black, Non-Hispanic</td>\n",
       "      <td>0.372</td>\n",
       "    </tr>\n",
       "    <tr>\n",
       "      <th>3</th>\n",
       "      <td>Female</td>\n",
       "      <td>80+ Years</td>\n",
       "      <td>White, Non-Hispanic</td>\n",
       "      <td>0.353</td>\n",
       "    </tr>\n",
       "    <tr>\n",
       "      <th>4</th>\n",
       "      <td>Female</td>\n",
       "      <td>80+ Years</td>\n",
       "      <td>Hispanic/Latino</td>\n",
       "      <td>0.341</td>\n",
       "    </tr>\n",
       "    <tr>\n",
       "      <th>5</th>\n",
       "      <td>Male</td>\n",
       "      <td>80+ Years</td>\n",
       "      <td>Asian, Non-Hispanic</td>\n",
       "      <td>0.308</td>\n",
       "    </tr>\n",
       "    <tr>\n",
       "      <th>6</th>\n",
       "      <td>Female</td>\n",
       "      <td>80+ Years</td>\n",
       "      <td>Black, Non-Hispanic</td>\n",
       "      <td>0.305</td>\n",
       "    </tr>\n",
       "    <tr>\n",
       "      <th>7</th>\n",
       "      <td>Male</td>\n",
       "      <td>70 - 79 Years</td>\n",
       "      <td>White, Non-Hispanic</td>\n",
       "      <td>0.290</td>\n",
       "    </tr>\n",
       "    <tr>\n",
       "      <th>8</th>\n",
       "      <td>Male</td>\n",
       "      <td>70 - 79 Years</td>\n",
       "      <td>Hispanic/Latino</td>\n",
       "      <td>0.279</td>\n",
       "    </tr>\n",
       "    <tr>\n",
       "      <th>9</th>\n",
       "      <td>Female</td>\n",
       "      <td>80+ Years</td>\n",
       "      <td>Asian, Non-Hispanic</td>\n",
       "      <td>0.248</td>\n",
       "    </tr>\n",
       "    <tr>\n",
       "      <th>10</th>\n",
       "      <td>Male</td>\n",
       "      <td>70 - 79 Years</td>\n",
       "      <td>Black, Non-Hispanic</td>\n",
       "      <td>0.247</td>\n",
       "    </tr>\n",
       "    <tr>\n",
       "      <th>11</th>\n",
       "      <td>Female</td>\n",
       "      <td>70 - 79 Years</td>\n",
       "      <td>White, Non-Hispanic</td>\n",
       "      <td>0.232</td>\n",
       "    </tr>\n",
       "    <tr>\n",
       "      <th>12</th>\n",
       "      <td>Male</td>\n",
       "      <td>80+ Years</td>\n",
       "      <td>Multiple/Other, Non-Hispanic</td>\n",
       "      <td>0.230</td>\n",
       "    </tr>\n",
       "    <tr>\n",
       "      <th>13</th>\n",
       "      <td>Female</td>\n",
       "      <td>70 - 79 Years</td>\n",
       "      <td>Hispanic/Latino</td>\n",
       "      <td>0.223</td>\n",
       "    </tr>\n",
       "    <tr>\n",
       "      <th>14</th>\n",
       "      <td>Male</td>\n",
       "      <td>70 - 79 Years</td>\n",
       "      <td>Asian, Non-Hispanic</td>\n",
       "      <td>0.198</td>\n",
       "    </tr>\n",
       "  </tbody>\n",
       "</table>\n",
       "</div>"
      ],
      "text/plain": [
       "       Sex      Age Group                     Ethnicity  Probability of Death\n",
       "0     Male      80+ Years           White, Non-Hispanic                 0.424\n",
       "1     Male      80+ Years               Hispanic/Latino                 0.412\n",
       "2     Male      80+ Years           Black, Non-Hispanic                 0.372\n",
       "3   Female      80+ Years           White, Non-Hispanic                 0.353\n",
       "4   Female      80+ Years               Hispanic/Latino                 0.341\n",
       "5     Male      80+ Years           Asian, Non-Hispanic                 0.308\n",
       "6   Female      80+ Years           Black, Non-Hispanic                 0.305\n",
       "7     Male  70 - 79 Years           White, Non-Hispanic                 0.290\n",
       "8     Male  70 - 79 Years               Hispanic/Latino                 0.279\n",
       "9   Female      80+ Years           Asian, Non-Hispanic                 0.248\n",
       "10    Male  70 - 79 Years           Black, Non-Hispanic                 0.247\n",
       "11  Female  70 - 79 Years           White, Non-Hispanic                 0.232\n",
       "12    Male      80+ Years  Multiple/Other, Non-Hispanic                 0.230\n",
       "13  Female  70 - 79 Years               Hispanic/Latino                 0.223\n",
       "14    Male  70 - 79 Years           Asian, Non-Hispanic                 0.198"
      ]
     },
     "execution_count": 43,
     "metadata": {},
     "output_type": "execute_result"
    }
   ],
   "source": [
    "df4.sort_values(by=['Probability of Death'], ascending = False, inplace = True)\n",
    "df4 = df4.reset_index(drop = True)\n",
    "df4.head(15)"
   ]
  },
  {
   "cell_type": "markdown",
   "metadata": {},
   "source": [
    "## Probability that a patient will die from Covid19 --- Logistic Regression"
   ]
  },
  {
   "cell_type": "code",
   "execution_count": 44,
   "metadata": {},
   "outputs": [],
   "source": [
    "# Male == 1, \n",
    "# Female == 2\n",
    "\n",
    "# 20 - 29 Years == 3\n",
    "# 30 - 39 Years == 4\n",
    "# 40 - 49 Years == 5\n",
    "# 50 - 59 Years == 6\n",
    "# 60 - 69 Years == 7\n",
    "# 70 - 79 Years == 8\n",
    "# 80+ Years == 9\n",
    "\n",
    "# White, Non-Hispanic == 1\n",
    "# Hispanic/Latino == 2\n",
    "# Black, Non-Hispanic == 3\n",
    "# Asian, Non-Hispanic == 4\n",
    "# Multiple/Other, Non-Hispanic == 5\n",
    "# Native Hawaiian/Other Pacific Islander, Non-Hispanic == 6\n",
    "# American Indian/Alaska Native, Non-Hispanic == 7\n",
    "\n",
    "prob_death_lr = []\n",
    "\n",
    "for s in range(1,3):\n",
    "    for a in range(3,10):\n",
    "        for e in range(1,8):\n",
    "            patient = np.array([[s,a,e]])\n",
    "            prob = round(lr.predict_proba(patient)[0][1], 3)\n",
    "            prob_death_lr.append([s,a,e,prob])"
   ]
  },
  {
   "cell_type": "code",
   "execution_count": 45,
   "metadata": {},
   "outputs": [],
   "source": [
    "df5 = pd.DataFrame(prob_death_lr, columns = ['Sex', 'Age Group', 'Ethnicity', 'Probability of Death']) "
   ]
  },
  {
   "cell_type": "code",
   "execution_count": 46,
   "metadata": {},
   "outputs": [],
   "source": [
    "df5[\"Sex\"].replace(to_replace = [1,2], value = ['Male', 'Female'], inplace = True)\n",
    "\n",
    "race_ethinicity = ['White, Non-Hispanic', 'Hispanic/Latino', 'Black, Non-Hispanic', 'Asian, Non-Hispanic', 'Multiple/Other, Non-Hispanic','Native Hawaiian/Other Pacific Islander, Non-Hispanic','American Indian/Alaska Native, Non-Hispanic']\n",
    "race_number = [1,2,3,4,5,6,7]\n",
    "df5[\"Ethnicity\"].replace(to_replace = race_number, value = race_ethinicity, inplace = True)\n",
    "\n",
    "age_group = ['20 - 29 Years', '30 - 39 Years', '40 - 49 Years','50 - 59 Years','60 - 69 Years', '70 - 79 Years', '80+ Years']\n",
    "age_number = [3,4,5,6,7,8,9]\n",
    "df5[\"Age Group\"].replace(to_replace = age_number, value = age_group, inplace = True)"
   ]
  },
  {
   "cell_type": "code",
   "execution_count": 47,
   "metadata": {},
   "outputs": [
    {
     "data": {
      "text/html": [
       "<div>\n",
       "<style scoped>\n",
       "    .dataframe tbody tr th:only-of-type {\n",
       "        vertical-align: middle;\n",
       "    }\n",
       "\n",
       "    .dataframe tbody tr th {\n",
       "        vertical-align: top;\n",
       "    }\n",
       "\n",
       "    .dataframe thead th {\n",
       "        text-align: right;\n",
       "    }\n",
       "</style>\n",
       "<table border=\"1\" class=\"dataframe\">\n",
       "  <thead>\n",
       "    <tr style=\"text-align: right;\">\n",
       "      <th></th>\n",
       "      <th>Sex</th>\n",
       "      <th>Age Group</th>\n",
       "      <th>Ethnicity</th>\n",
       "      <th>Probability of Death</th>\n",
       "    </tr>\n",
       "  </thead>\n",
       "  <tbody>\n",
       "    <tr>\n",
       "      <th>0</th>\n",
       "      <td>Male</td>\n",
       "      <td>80+ Years</td>\n",
       "      <td>American Indian/Alaska Native, Non-Hispanic</td>\n",
       "      <td>0.540</td>\n",
       "    </tr>\n",
       "    <tr>\n",
       "      <th>1</th>\n",
       "      <td>Male</td>\n",
       "      <td>80+ Years</td>\n",
       "      <td>Native Hawaiian/Other Pacific Islander, Non-Hi...</td>\n",
       "      <td>0.521</td>\n",
       "    </tr>\n",
       "    <tr>\n",
       "      <th>2</th>\n",
       "      <td>Male</td>\n",
       "      <td>80+ Years</td>\n",
       "      <td>Multiple/Other, Non-Hispanic</td>\n",
       "      <td>0.503</td>\n",
       "    </tr>\n",
       "    <tr>\n",
       "      <th>3</th>\n",
       "      <td>Male</td>\n",
       "      <td>80+ Years</td>\n",
       "      <td>Asian, Non-Hispanic</td>\n",
       "      <td>0.485</td>\n",
       "    </tr>\n",
       "    <tr>\n",
       "      <th>4</th>\n",
       "      <td>Male</td>\n",
       "      <td>80+ Years</td>\n",
       "      <td>Black, Non-Hispanic</td>\n",
       "      <td>0.466</td>\n",
       "    </tr>\n",
       "    <tr>\n",
       "      <th>5</th>\n",
       "      <td>Male</td>\n",
       "      <td>80+ Years</td>\n",
       "      <td>Hispanic/Latino</td>\n",
       "      <td>0.448</td>\n",
       "    </tr>\n",
       "    <tr>\n",
       "      <th>6</th>\n",
       "      <td>Male</td>\n",
       "      <td>80+ Years</td>\n",
       "      <td>White, Non-Hispanic</td>\n",
       "      <td>0.430</td>\n",
       "    </tr>\n",
       "    <tr>\n",
       "      <th>7</th>\n",
       "      <td>Female</td>\n",
       "      <td>80+ Years</td>\n",
       "      <td>American Indian/Alaska Native, Non-Hispanic</td>\n",
       "      <td>0.418</td>\n",
       "    </tr>\n",
       "    <tr>\n",
       "      <th>8</th>\n",
       "      <td>Female</td>\n",
       "      <td>80+ Years</td>\n",
       "      <td>Native Hawaiian/Other Pacific Islander, Non-Hi...</td>\n",
       "      <td>0.401</td>\n",
       "    </tr>\n",
       "    <tr>\n",
       "      <th>9</th>\n",
       "      <td>Female</td>\n",
       "      <td>80+ Years</td>\n",
       "      <td>Multiple/Other, Non-Hispanic</td>\n",
       "      <td>0.383</td>\n",
       "    </tr>\n",
       "    <tr>\n",
       "      <th>10</th>\n",
       "      <td>Female</td>\n",
       "      <td>80+ Years</td>\n",
       "      <td>Asian, Non-Hispanic</td>\n",
       "      <td>0.366</td>\n",
       "    </tr>\n",
       "    <tr>\n",
       "      <th>11</th>\n",
       "      <td>Female</td>\n",
       "      <td>80+ Years</td>\n",
       "      <td>Black, Non-Hispanic</td>\n",
       "      <td>0.349</td>\n",
       "    </tr>\n",
       "    <tr>\n",
       "      <th>12</th>\n",
       "      <td>Female</td>\n",
       "      <td>80+ Years</td>\n",
       "      <td>Hispanic/Latino</td>\n",
       "      <td>0.333</td>\n",
       "    </tr>\n",
       "    <tr>\n",
       "      <th>13</th>\n",
       "      <td>Female</td>\n",
       "      <td>80+ Years</td>\n",
       "      <td>White, Non-Hispanic</td>\n",
       "      <td>0.316</td>\n",
       "    </tr>\n",
       "    <tr>\n",
       "      <th>14</th>\n",
       "      <td>Male</td>\n",
       "      <td>70 - 79 Years</td>\n",
       "      <td>American Indian/Alaska Native, Non-Hispanic</td>\n",
       "      <td>0.278</td>\n",
       "    </tr>\n",
       "  </tbody>\n",
       "</table>\n",
       "</div>"
      ],
      "text/plain": [
       "       Sex      Age Group                                          Ethnicity  \\\n",
       "0     Male      80+ Years        American Indian/Alaska Native, Non-Hispanic   \n",
       "1     Male      80+ Years  Native Hawaiian/Other Pacific Islander, Non-Hi...   \n",
       "2     Male      80+ Years                       Multiple/Other, Non-Hispanic   \n",
       "3     Male      80+ Years                                Asian, Non-Hispanic   \n",
       "4     Male      80+ Years                                Black, Non-Hispanic   \n",
       "5     Male      80+ Years                                    Hispanic/Latino   \n",
       "6     Male      80+ Years                                White, Non-Hispanic   \n",
       "7   Female      80+ Years        American Indian/Alaska Native, Non-Hispanic   \n",
       "8   Female      80+ Years  Native Hawaiian/Other Pacific Islander, Non-Hi...   \n",
       "9   Female      80+ Years                       Multiple/Other, Non-Hispanic   \n",
       "10  Female      80+ Years                                Asian, Non-Hispanic   \n",
       "11  Female      80+ Years                                Black, Non-Hispanic   \n",
       "12  Female      80+ Years                                    Hispanic/Latino   \n",
       "13  Female      80+ Years                                White, Non-Hispanic   \n",
       "14    Male  70 - 79 Years        American Indian/Alaska Native, Non-Hispanic   \n",
       "\n",
       "    Probability of Death  \n",
       "0                  0.540  \n",
       "1                  0.521  \n",
       "2                  0.503  \n",
       "3                  0.485  \n",
       "4                  0.466  \n",
       "5                  0.448  \n",
       "6                  0.430  \n",
       "7                  0.418  \n",
       "8                  0.401  \n",
       "9                  0.383  \n",
       "10                 0.366  \n",
       "11                 0.349  \n",
       "12                 0.333  \n",
       "13                 0.316  \n",
       "14                 0.278  "
      ]
     },
     "execution_count": 47,
     "metadata": {},
     "output_type": "execute_result"
    }
   ],
   "source": [
    "df5.sort_values(by=['Probability of Death'], ascending = False, inplace = True)\n",
    "df5 = df5.reset_index(drop = True)\n",
    "df5.head(15)"
   ]
  }
 ],
 "metadata": {
  "kernelspec": {
   "display_name": "Python 3",
   "language": "python",
   "name": "python3"
  },
  "language_info": {
   "codemirror_mode": {
    "name": "ipython",
    "version": 3
   },
   "file_extension": ".py",
   "mimetype": "text/x-python",
   "name": "python",
   "nbconvert_exporter": "python",
   "pygments_lexer": "ipython3",
   "version": "3.8.5"
  }
 },
 "nbformat": 4,
 "nbformat_minor": 4
}
