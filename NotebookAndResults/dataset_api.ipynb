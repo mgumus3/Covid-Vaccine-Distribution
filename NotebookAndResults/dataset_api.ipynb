{
 "metadata": {
  "language_info": {
   "codemirror_mode": {
    "name": "ipython",
    "version": 3
   },
   "file_extension": ".py",
   "mimetype": "text/x-python",
   "name": "python",
   "nbconvert_exporter": "python",
   "pygments_lexer": "ipython3",
   "version": "3.7.9-final"
  },
  "orig_nbformat": 2,
  "kernelspec": {
   "name": "python3",
   "display_name": "Python 3.7.9 64-bit",
   "metadata": {
    "interpreter": {
     "hash": "04635d289a519a1410467dd0afb0db42f9184808881ca68b2eb5a687a20a5a94"
    }
   }
  }
 },
 "nbformat": 4,
 "nbformat_minor": 2,
 "cells": [
  {
   "cell_type": "code",
   "execution_count": null,
   "metadata": {},
   "outputs": [],
   "source": [
    "import pandas as pd"
   ]
  },
  {
   "cell_type": "code",
   "execution_count": null,
   "metadata": {},
   "outputs": [],
   "source": [
    "url = \"https://data.cdc.gov/resource/vbim-akqf.json?$query=select%20sex,%20age_group,%20race_ethnicity_combined,death_yn%20WHERE%20(sex=%27Male%27%20OR%20sex=%27Female%27)%20AND%20(age_group%20!=%20%27Missing%27%20AND%20age_group%20!=%20%27NA%27)%20AND%20(race_ethnicity_combined%20%3C%3E%20%27Unknown%27%20AND%20race_ethnicity_combined%20%3C%3E%20%27NA%27%20AND%20race_ethnicity_combined%20%3C%3E%20%27Missing%27)%20AND%20(death_yn%20%3C%3E%20%22Missing%22%20AND%20death_yn%20%3C%3E%20%22Unknown%22)%20LIMIT%2030000000\"\n",
    "\n",
    "#Query Param for Copy Paste Testing\n",
    "#https://data.cdc.gov/resource/vbim-akqf.json?$query=select sex, age_group, race_ethnicity_combined,death_yn WHERE (sex='Male' OR sex='Female') AND (age_group != 'Missing' AND age_group != 'NA') AND (race_ethnicity_combined <> 'Unknown' AND race_ethnicity_combined <> 'NA' AND race_ethnicity_combined <> 'Missing') AND (death_yn <> \"Missing\" AND death_yn <> \"Unknown\") LIMIT 30000000\n"
   ]
  },
  {
   "cell_type": "code",
   "execution_count": null,
   "metadata": {
    "tags": []
   },
   "outputs": [],
   "source": [
    "df = pd.read_json(url)"
   ]
  },
  {
   "cell_type": "code",
   "execution_count": null,
   "metadata": {},
   "outputs": [],
   "source": [
    "len(df)"
   ]
  },
  {
   "cell_type": "code",
   "execution_count": null,
   "metadata": {},
   "outputs": [],
   "source": [
    "df.to_csv('surveilance_dataset_nodate.csv')"
   ]
  },
  {
   "cell_type": "code",
   "execution_count": null,
   "metadata": {},
   "outputs": [],
   "source": []
  }
 ]
}